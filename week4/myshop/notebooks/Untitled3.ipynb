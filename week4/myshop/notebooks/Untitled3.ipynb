{
 "cells": [
  {
   "cell_type": "code",
   "execution_count": 1,
   "id": "3ffad63d",
   "metadata": {},
   "outputs": [],
   "source": [
    "import os\n",
    "os.environ[\"DJANGO_ALLOW_ASYNC_UNSAFE\"] = \"true\""
   ]
  },
  {
   "cell_type": "code",
   "execution_count": 7,
   "id": "4136a36e",
   "metadata": {},
   "outputs": [
    {
     "name": "stdout",
     "output_type": "stream",
     "text": [
      "ORDER ID:22, DATE: 2024-05-01, PRICE: 4890.00\n",
      "ORDER ID:23, DATE: 2024-05-01, PRICE: 2540.00\n",
      "ORDER ID:24, DATE: 2024-05-01, PRICE: 1720.00\n",
      "ORDER ID:25, DATE: 2024-05-02, PRICE: 322499.00\n",
      "ORDER ID:26, DATE: 2024-05-02, PRICE: 3399.00\n",
      "ORDER ID:27, DATE: 2024-05-02, PRICE: 1190.00\n",
      "ORDER ID:28, DATE: 2024-05-03, PRICE: 9499.00\n",
      "ORDER ID:29, DATE: 2024-05-03, PRICE: 700.00\n",
      "ORDER ID:30, DATE: 2024-05-03, PRICE: 1690.00\n",
      "ORDER ID:31, DATE: 2024-05-04, PRICE: 3280.00\n"
     ]
    }
   ],
   "source": [
    "from shop.models import Order\n",
    "ord = Order.objects.filter(order_date__month=5)[:10]\n",
    "for obj in ord:\n",
    "    print(f\"ORDER ID:{obj.id}, DATE: {obj.order_date}, PRICE: {obj.payment.price}\")"
   ]
  },
  {
   "cell_type": "code",
   "execution_count": 15,
   "id": "b5c9189a",
   "metadata": {},
   "outputs": [
    {
     "name": "stdout",
     "output_type": "stream",
     "text": [
      "PRODUCT ID:1, Description:A sleek and powerful smartphone with advanced features.\n",
      "PRODUCT ID:7, Description:High-resolution digital camera with advanced photography features.\n",
      "PRODUCT ID:10, Description:A stylish smartwatch with health monitoring and notification features.\n",
      "PRODUCT ID:14, Description:Split air conditioner with remote control and energy-saving features.\n",
      "PRODUCT ID:45, Description:Customizable racing track set with loop and jump features.\n"
     ]
    }
   ],
   "source": [
    "from shop.models import Product\n",
    "pro = Product.objects.filter(description__endswith='features.')\n",
    "for product in pro:\n",
    "    print(f\"PRODUCT ID:{product.id}, Description:{product.description}\")"
   ]
  },
  {
   "cell_type": "code",
   "execution_count": 2,
   "id": "50ba18c3",
   "metadata": {},
   "outputs": [
    {
     "name": "stdout",
     "output_type": "stream",
     "text": [
      "PRODUCT ID:1, NAME:Smartphone, PRICE:5900.00\n",
      "PRODUCT ID:2, NAME:Laptop, PRICE:25999.00\n",
      "PRODUCT ID:3, NAME:Smart TV, PRICE:8900.00\n",
      "PRODUCT ID:5, NAME:Tablet, PRICE:12900.00\n",
      "PRODUCT ID:6, NAME:Gaming Console, PRICE:5000.00\n",
      "PRODUCT ID:7, NAME:Digital Camera, PRICE:32000.00\n",
      "PRODUCT ID:69, NAME:Notebook HP Pavilion Silver, PRICE:20000.00\n",
      "PRODUCT ID:72, NAME:Notebook HP Pavilion Silver, PRICE:20000.00\n"
     ]
    }
   ],
   "source": [
    "from shop.models import Product\n",
    "pro1 = Product.objects.filter(Q(price__gte = 5000) & Q(categories__name = 'Information Technology'))\n",
    "for product in pro1:\n",
    "    print(f\"PRODUCT ID:{product.id}, NAME:{product.name}, PRICE:{product.price}\")\n"
   ]
  },
  {
   "cell_type": "code",
   "execution_count": 21,
   "id": "76f8699e",
   "metadata": {},
   "outputs": [
    {
     "name": "stdout",
     "output_type": "stream",
     "text": [
      "PRODUCT ID:28, NAME:Women's Sweater, PRICE:190.00\n",
      "PRODUCT ID:66, NAME:Salvage the Bones, PRICE:129.00\n"
     ]
    }
   ],
   "source": [
    "from shop.models import Product\n",
    "pro2 = Product.objects.filter(price__gt = 100, price__lt = 200)\n",
    "for product in pro2:\n",
    "    print(f\"PRODUCT ID:{product.id}, NAME:{product.name}, PRICE:{product.price}\")"
   ]
  },
  {
   "cell_type": "code",
   "execution_count": 34,
   "id": "0c79f597",
   "metadata": {},
   "outputs": [],
   "source": [
    "from shop.models import Product, ProductCategory\n",
    "cre1 = ProductCategory.objects.get(name = 'Books and Media')\n",
    "crep1 = Product.objects.create(name = \"Philosopher's Stone (1997)\", description=\"By J. K. Rowling.\", price= 790 , remaining_amount= 20)\n",
    "crep1.categories.add(cre1)"
   ]
  },
  {
   "cell_type": "code",
   "execution_count": 35,
   "id": "75b296a1",
   "metadata": {},
   "outputs": [],
   "source": [
    "from shop.models import Product, ProductCategory\n",
    "cre1 = ProductCategory.objects.get(name = 'Books and Media')\n",
    "crep2 = Product.objects.create(name = \"Me Before You\", description=\"A romance novel written by Jojo\", price= 390 , remaining_amount= 40)\n",
    "crep2.categories.add(cre1)"
   ]
  },
  {
   "cell_type": "code",
   "execution_count": 36,
   "id": "6f7f5c52",
   "metadata": {},
   "outputs": [],
   "source": [
    "from shop.models import Product, ProductCategory\n",
    "cre2 = ProductCategory.objects.get(name = 'Information Technology')\n",
    "cre3 = ProductCategory.objects.get(name = 'Electronics')\n",
    "crep3 = Product.objects.create(name = \"Notebook HP Pavilion Silver\", description=\"Display Screen. 16.0\", price= 20000 , remaining_amount= 10)\n",
    "crep3.categories.add(cre2, cre3)"
   ]
  },
  {
   "cell_type": "code",
   "execution_count": 37,
   "id": "ae4a6963",
   "metadata": {},
   "outputs": [],
   "source": [
    "from shop.models import Product, ProductCategory\n",
    "name1 = Product.objects.get(name = \"Philosopher's Stone (1997)\")\n",
    "name1.name = \"Half-Blood Prince (2005)\"\n",
    "name1.save()"
   ]
  },
  {
   "cell_type": "code",
   "execution_count": 71,
   "id": "b130d5b9",
   "metadata": {},
   "outputs": [],
   "source": [
    "from shop.models import Product, ProductCategory\n",
    "cre1 = ProductCategory.objects.get(name = 'Books')\n",
    "cre1.name = \"Books and Media\"\n",
    "cre1.save()"
   ]
  },
  {
   "cell_type": "code",
   "execution_count": 39,
   "id": "367f0b6b",
   "metadata": {},
   "outputs": [
    {
     "data": {
      "text/plain": [
       "(4, {'shop.Product_categories': 2, 'shop.Product': 2})"
      ]
     },
     "execution_count": 39,
     "metadata": {},
     "output_type": "execute_result"
    }
   ],
   "source": [
    "from shop.models import Product, ProductCategory\n",
    "Product.objects.filter(categories__name=\"Books and Media\").delete()"
   ]
  },
  {
   "cell_type": "code",
   "execution_count": 3,
   "id": "6384bd87",
   "metadata": {},
   "outputs": [],
   "source": [
    "from shop.models import *"
   ]
  },
  {
   "cell_type": "code",
   "execution_count": 9,
   "id": "1a459ee5",
   "metadata": {},
   "outputs": [
    {
     "name": "stdout",
     "output_type": "stream",
     "text": [
      "ID:92, PRICE:1200500.00, DISCOUNT:29433.25, AFTER_DISCOUNT:1171066.75\n",
      "ID:82, PRICE:1200280.00, DISCOUNT:46229.40, AFTER_DISCOUNT:1154050.60\n",
      "ID:137, PRICE:1200690.00, DISCOUNT:71407.25, AFTER_DISCOUNT:1129282.75\n",
      "ID:105, PRICE:1200390.00, DISCOUNT:105019.11, AFTER_DISCOUNT:1095370.89\n",
      "ID:45, PRICE:1218900.00, DISCOUNT:126859.95, AFTER_DISCOUNT:1092040.05\n",
      "ID:7, PRICE:1201200.00, DISCOUNT:113446.20, AFTER_DISCOUNT:1087753.80\n",
      "ID:18, PRICE:1202190.00, DISCOUNT:121922.64, AFTER_DISCOUNT:1080267.36\n",
      "ID:77, PRICE:379000.00, DISCOUNT:19397.00, AFTER_DISCOUNT:359603.00\n",
      "ID:127, PRICE:320450.00, DISCOUNT:14578.90, AFTER_DISCOUNT:305871.10\n",
      "ID:125, PRICE:320399.00, DISCOUNT:17939.55, AFTER_DISCOUNT:302459.45\n"
     ]
    }
   ],
   "source": [
    "from shop.models import *\n",
    "from django.db.models import Count, F, Value\n",
    "pri = Payment.objects.annotate(after_discount_price= F(\"price\") - F(\"discount\")).order_by(\"-after_discount_price\")[:10]\n",
    "for obj in pri:\n",
    "    print(f\"ID:{obj.id}, PRICE:{obj.price}, DISCOUNT:{obj.discount}, AFTER_DISCOUNT:{obj.after_discount_price}\")"
   ]
  },
  {
   "cell_type": "code",
   "execution_count": 12,
   "id": "32d08d8e",
   "metadata": {},
   "outputs": [
    {
     "name": "stdout",
     "output_type": "stream",
     "text": [
      "ID:7, PRICE:1201200.00, DISCOUNT:113446.20, AFTER_DISCOUNT:1087753.80\n",
      "ID:18, PRICE:1202190.00, DISCOUNT:121922.64, AFTER_DISCOUNT:1080267.36\n",
      "ID:45, PRICE:1218900.00, DISCOUNT:126859.95, AFTER_DISCOUNT:1092040.05\n",
      "ID:82, PRICE:1200280.00, DISCOUNT:46229.40, AFTER_DISCOUNT:1154050.60\n",
      "ID:92, PRICE:1200500.00, DISCOUNT:29433.25, AFTER_DISCOUNT:1171066.75\n",
      "ID:105, PRICE:1200390.00, DISCOUNT:105019.11, AFTER_DISCOUNT:1095370.89\n",
      "ID:137, PRICE:1200690.00, DISCOUNT:71407.25, AFTER_DISCOUNT:1129282.75\n"
     ]
    }
   ],
   "source": [
    "from shop.models import *\n",
    "p1 = Payment.objects.annotate(after_discount_price= F(\"price\") - F(\"discount\")).filter(after_discount_price__gt = 500000)\n",
    "for obj in p1:\n",
    "    print(f\"ID:{obj.id}, PRICE:{obj.price}, DISCOUNT:{obj.discount}, AFTER_DISCOUNT:{obj.after_discount_price}\")"
   ]
  },
  {
   "cell_type": "code",
   "execution_count": 31,
   "id": "d67259c5",
   "metadata": {},
   "outputs": [
    {
     "name": "stdout",
     "output_type": "stream",
     "text": [
      "[\n",
      "    {\n",
      "        \"id\": 23,\n",
      "        \"first_name\": \"Yanisa\",\n",
      "        \"last_name\": \"Thongchaiyapoom\",\n",
      "        \"email\": \"yanisa.game888@gmail.com\",\n",
      "        \"address\": {\n",
      "            \"district\": \"Paknampho\",\n",
      "            \"location\": \"200 Nakhon Sawan Road\",\n",
      "            \"province\": \"Nakhon Sawan\",\n",
      "            \"postal_code\": 60000\n",
      "        },\n",
      "        \"full_name\": \"Yanisa Thongchaiyapoom\"\n",
      "    },\n",
      "    {\n",
      "        \"id\": 14,\n",
      "        \"first_name\": \"Yanisa\",\n",
      "        \"last_name\": \"Nantapak\",\n",
      "        \"email\": \"yanisa.ok@gmail.com\",\n",
      "        \"address\": {\n",
      "            \"district\": \"Bang Kapi\",\n",
      "            \"location\": \"66 Ramkhamhaeng Road\",\n",
      "            \"province\": \"Bangkok\",\n",
      "            \"postal_code\": 10240\n",
      "        },\n",
      "        \"full_name\": \"Yanisa Nantapak\"\n",
      "    },\n",
      "    {\n",
      "        \"id\": 8,\n",
      "        \"first_name\": \"Warit\",\n",
      "        \"last_name\": \"Pititat\",\n",
      "        \"email\": \"warit.za@gmail.com\",\n",
      "        \"address\": {\n",
      "            \"district\": \"Bang Rak\",\n",
      "            \"location\": \"29/1 Silom Road\",\n",
      "            \"province\": \"Bangkok\",\n",
      "            \"postal_code\": 10500\n",
      "        },\n",
      "        \"full_name\": \"Warit Pititat\"\n",
      "    },\n",
      "    {\n",
      "        \"id\": 10,\n",
      "        \"first_name\": \"Wanaporn\",\n",
      "        \"last_name\": \"Klabpetch\",\n",
      "        \"email\": \"wanaporn.over@gmail.com\",\n",
      "        \"address\": {\n",
      "            \"district\": \"Huai Khwang\",\n",
      "            \"location\": \"99 Rama IX Road\",\n",
      "            \"province\": \"Bangkok\",\n",
      "            \"postal_code\": 10310\n",
      "        },\n",
      "        \"full_name\": \"Wanaporn Klabpetch\"\n",
      "    },\n",
      "    {\n",
      "        \"id\": 30,\n",
      "        \"first_name\": \"Trinnapon\",\n",
      "        \"last_name\": \"Yinggnam\",\n",
      "        \"email\": \"trinnapon.091@gmail.com\",\n",
      "        \"address\": {\n",
      "            \"district\": \"Watthana\",\n",
      "            \"location\": \"50 Sukhumvit Soi 11\",\n",
      "            \"province\": \"Bangkok\",\n",
      "            \"postal_code\": 10110\n",
      "        },\n",
      "        \"full_name\": \"Trinnapon Yinggnam\"\n",
      "    }\n",
      "]\n"
     ]
    }
   ],
   "source": [
    "from shop.models import *\n",
    "from django.db.models import CharField, Value\n",
    "import json\n",
    "from django.db.models.functions import Concat\n",
    "n1 = Customer.objects.annotate(full_name= Concat(\"first_name\", Value(\" \") ,\"last_name\")).order_by(\"-full_name\").values()[:5]\n",
    "print(json.dumps(list(n1), indent=4, sort_keys=False))"
   ]
  },
  {
   "cell_type": "code",
   "execution_count": 36,
   "id": "1022f622",
   "metadata": {},
   "outputs": [
    {
     "data": {
      "text/plain": [
       "{'avg': Decimal('28593.848484848485')}"
      ]
     },
     "execution_count": 36,
     "metadata": {},
     "output_type": "execute_result"
    }
   ],
   "source": [
    "from django.db.models import Avg\n",
    "from shop.models import *\n",
    "a1 = Product.objects.filter(remaining_amount__gt = 0).aggregate(avg = Avg(\"price\"))\n",
    "a1"
   ]
  },
  {
   "cell_type": "code",
   "execution_count": 45,
   "id": "5e082b08",
   "metadata": {},
   "outputs": [
    {
     "data": {
      "text/plain": [
       "{'sum': Decimal('9912555.00')}"
      ]
     },
     "execution_count": 45,
     "metadata": {},
     "output_type": "execute_result"
    }
   ],
   "source": [
    "from django.db.models import Sum\n",
    "from shop.models import *\n",
    "s1 = CartItem.objects.filter(cart__create_date__month=5).aggregate(sum = Sum('product__price'))\n",
    "s1"
   ]
  },
  {
   "cell_type": "code",
   "execution_count": 55,
   "id": "5cb7f633",
   "metadata": {},
   "outputs": [
    {
     "name": "stdout",
     "output_type": "stream",
     "text": [
      "PRODUCT CATEGORY NAME: Electronics, PRODUCT COUNT: 8\n",
      "PRODUCT CATEGORY NAME: Jewelry, PRODUCT COUNT: 1\n"
     ]
    }
   ],
   "source": [
    "from shop.models import *\n",
    "c1 = ProductCategory.objects.filter(Q(name__in=(\"Electronics\", \"Jewelry\")) & Q(product__price__range=(8000, 50000))).annotate(count2=Count(\"product\"))\n",
    "\n",
    "for obj in c1:\n",
    "    print(F\"PRODUCT CATEGORY NAME: {obj.name}, PRODUCT COUNT: {obj.count2}\")"
   ]
  },
  {
   "cell_type": "code",
   "execution_count": 72,
   "id": "6b213cf7",
   "metadata": {},
   "outputs": [
    {
     "name": "stdout",
     "output_type": "stream",
     "text": [
      "PRODUCT ID:1, PRODUCT NAME:Smartphone, PRODUCT CATEGORY:<QuerySet [{'name': 'Information Technology'}, {'name': 'Electronics'}]>\n",
      "PRODUCT ID:2, PRODUCT NAME:Laptop, PRODUCT CATEGORY:<QuerySet [{'name': 'Information Technology'}, {'name': 'Electronics'}]>\n",
      "PRODUCT ID:3, PRODUCT NAME:Smart TV, PRODUCT CATEGORY:<QuerySet [{'name': 'Information Technology'}, {'name': 'Electronics'}]>\n",
      "PRODUCT ID:4, PRODUCT NAME:Bluetooth Earphones, PRODUCT CATEGORY:<QuerySet [{'name': 'Information Technology'}, {'name': 'Electronics'}]>\n",
      "PRODUCT ID:5, PRODUCT NAME:Tablet, PRODUCT CATEGORY:<QuerySet [{'name': 'Information Technology'}, {'name': 'Electronics'}]>\n",
      "PRODUCT ID:6, PRODUCT NAME:Gaming Console, PRODUCT CATEGORY:<QuerySet [{'name': 'Information Technology'}, {'name': 'Electronics'}]>\n",
      "PRODUCT ID:7, PRODUCT NAME:Digital Camera, PRODUCT CATEGORY:<QuerySet [{'name': 'Information Technology'}, {'name': 'Electronics'}]>\n",
      "PRODUCT ID:8, PRODUCT NAME:Wireless Router, PRODUCT CATEGORY:<QuerySet [{'name': 'Information Technology'}, {'name': 'Electronics'}]>\n",
      "PRODUCT ID:9, PRODUCT NAME:Portable Power Bank, PRODUCT CATEGORY:<QuerySet [{'name': 'Information Technology'}, {'name': 'Electronics'}]>\n",
      "PRODUCT ID:10, PRODUCT NAME:Smartwatch, PRODUCT CATEGORY:<QuerySet [{'name': 'Information Technology'}, {'name': 'Electronics'}]>\n"
     ]
    }
   ],
   "source": [
    "from shop.models import *\n",
    "serch1 = Product.objects.filter(categories__name = 'Information Technology').order_by(\"id\")[:10]\n",
    "for obj in serch1:\n",
    "    print(f\"PRODUCT ID:{obj.id}, PRODUCT NAME:{obj.name}, PRODUCT CATEGORY:{obj.categories.values(\"name\")}\")"
   ]
  },
  {
   "cell_type": "code",
   "execution_count": null,
   "id": "4dca6d73",
   "metadata": {},
   "outputs": [],
   "source": []
  }
 ],
 "metadata": {
  "kernelspec": {
   "display_name": "Django Shell-Plus",
   "language": "python",
   "name": "django_extensions"
  },
  "language_info": {
   "codemirror_mode": {
    "name": "ipython",
    "version": 3
   },
   "file_extension": ".py",
   "mimetype": "text/x-python",
   "name": "python",
   "nbconvert_exporter": "python",
   "pygments_lexer": "ipython3",
   "version": "3.12.4"
  }
 },
 "nbformat": 4,
 "nbformat_minor": 5
}
