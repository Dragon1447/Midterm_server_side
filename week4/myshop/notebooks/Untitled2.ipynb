{
 "cells": [
  {
   "cell_type": "code",
   "execution_count": 4,
   "id": "8443bf4d",
   "metadata": {},
   "outputs": [],
   "source": [
    "import os\n",
    "os.environ[\"DJANGO_ALLOW_ASYNC_UNSAFE\"] = \"true\""
   ]
  },
  {
   "cell_type": "code",
   "execution_count": 6,
   "id": "b75b5253",
   "metadata": {},
   "outputs": [],
   "source": [
    "from shop.models import Order\n",
    "ord = Order.objects.filter(order_date__month=5)[:10]\n",
    "for obj in ord:\n",
    "    print(ord)"
   ]
  },
  {
   "cell_type": "code",
   "execution_count": 8,
   "id": "e3350d20",
   "metadata": {},
   "outputs": [
    {
     "name": "stdout",
     "output_type": "stream",
     "text": [
      "<QuerySet []>\n"
     ]
    }
   ],
   "source": [
    "print(ord)"
   ]
  },
  {
   "cell_type": "code",
   "execution_count": null,
   "id": "66993211",
   "metadata": {},
   "outputs": [],
   "source": []
  }
 ],
 "metadata": {
  "kernelspec": {
   "display_name": "Django Shell-Plus",
   "language": "python",
   "name": "django_extensions"
  },
  "language_info": {
   "codemirror_mode": {
    "name": "ipython",
    "version": 3
   },
   "file_extension": ".py",
   "mimetype": "text/x-python",
   "name": "python",
   "nbconvert_exporter": "python",
   "pygments_lexer": "ipython3",
   "version": "3.12.4"
  }
 },
 "nbformat": 4,
 "nbformat_minor": 5
}
