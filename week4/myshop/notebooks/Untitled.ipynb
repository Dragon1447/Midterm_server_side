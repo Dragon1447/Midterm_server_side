{
 "cells": [
  {
   "cell_type": "code",
   "execution_count": 7,
   "id": "34808662",
   "metadata": {},
   "outputs": [],
   "source": [
    "import os\n",
    "os.environ[\"DJANGO_ALLOW_ASYNC_UNSAFE\"] = \"true\""
   ]
  },
  {
   "cell_type": "code",
   "execution_count": 8,
   "id": "f6b12f6b",
   "metadata": {},
   "outputs": [],
   "source": [
    "from shop.models import Order\n",
    "ord = Order.objects.filter(order_date__month=5)[:10]\n",
    "for obj in ord:\n",
    "    print(f\"ORDER ID:{obj.id}, DATE: {obj.order_date}, PRICE: {obj.payment.price}\")"
   ]
  },
  {
   "cell_type": "code",
   "execution_count": null,
   "id": "d8ae0be6",
   "metadata": {},
   "outputs": [],
   "source": []
  },
  {
   "cell_type": "code",
   "execution_count": null,
   "id": "104e2d21",
   "metadata": {},
   "outputs": [],
   "source": []
  },
  {
   "cell_type": "code",
   "execution_count": null,
   "id": "5d9fc442",
   "metadata": {},
   "outputs": [],
   "source": []
  },
  {
   "cell_type": "code",
   "execution_count": null,
   "id": "0df60ea3",
   "metadata": {},
   "outputs": [],
   "source": []
  }
 ],
 "metadata": {
  "kernelspec": {
   "display_name": "Django Shell-Plus",
   "language": "python",
   "name": "django_extensions"
  },
  "language_info": {
   "codemirror_mode": {
    "name": "ipython",
    "version": 3
   },
   "file_extension": ".py",
   "mimetype": "text/x-python",
   "name": "python",
   "nbconvert_exporter": "python",
   "pygments_lexer": "ipython3",
   "version": "3.12.4"
  }
 },
 "nbformat": 4,
 "nbformat_minor": 5
}
